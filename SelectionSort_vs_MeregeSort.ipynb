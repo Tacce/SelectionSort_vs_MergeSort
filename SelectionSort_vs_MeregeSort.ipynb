{
 "cells": [
  {
   "cell_type": "markdown",
   "metadata": {},
   "source": [
    "# Confronto fra Algoritmi di Ordinamento: Selection-Sort e Merge-Sort"
   ]
  },
  {
   "cell_type": "markdown",
   "metadata": {},
   "source": [
    "## Introduzione\n",
    "Un algoritmo di ordinamento è un algoritmo che riordina una sequenza di elementi secondo un criterio prestabilito. Esistono diversi algoritmi di ordinamento, che si differenziano per la complessità computazionale, la stabilità e il tipo di dati che possono gestire. Nel nostro caso andremo ad analizzare il comportamento in varie situazioni di due possibili soluzioni al problema di ordinamento, vale a dire Selection-Sort e Merge-Sort."
   ]
  },
  {
   "cell_type": "markdown",
   "metadata": {},
   "source": [
    "## Selection-Sort\n",
    "L'algoritmo di Selection Sort è un metodo per ordinare una lista di elementi confrontando e scambiando tra loro i valori più piccoli o più grandi (nel nostro caso i più piccoli). Il funzionamento dell'algoritmo è il seguente:\n",
    "\n",
    "- Si parte dal primo elemento della lista e si cerca il valore minimo tra tutti gli elementi successivi.\n",
    "- Si scambia il valore minimo trovato con il primo elemento della lista, ponendolo così nella sua posizione definitiva.\n",
    "- Si ripete il procedimento a partire dal secondo elemento della lista, poi dal terzo e così via fino a raggiungere l'ultimo elemento.\n",
    "\n",
    "L'algoritmo richiede n-1 passaggi per ordinare una lista di n elementi, dove a ogni passaggio si effettua un solo scambio e n-i confronti, dove i è il numero del passaggio corrente. La complessità temporale dell'algoritmo è quindi θ(n^2) nel caso peggiore, medio e migliore. La complessità spaziale è invece O(1), in quanto l'algoritmo opera in place senza richiedere spazio ausiliario.\n",
    "\n",
    "Di seguito l'implementazione del codice:"
   ]
  },
  {
   "cell_type": "code",
   "execution_count": 4,
   "metadata": {},
   "outputs": [],
   "source": [
    "def SelectionSort(A):\n",
    "    n = len(A)\n",
    "    for i in range(n):\n",
    "        minimum = i\n",
    "        for j in range(i + 1, n):\n",
    "            if A[j] < A[minimum]:\n",
    "                minimum = j\n",
    "        A[i], A[minimum] = A[minimum], A[i] #Effettuo lo scambio fra A[i] e A[minimum]"
   ]
  },
  {
   "cell_type": "code",
   "execution_count": 8,
   "metadata": {},
   "outputs": [
    {
     "name": "stdout",
     "output_type": "stream",
     "text": [
      "[1, 2, 3, 4, 5, 8]\n"
     ]
    }
   ],
   "source": [
    "#Esempio applicativo\n",
    "A = [4,2,8,5,1,3]\n",
    "SelectionSort(A)\n",
    "print(A)"
   ]
  },
  {
   "cell_type": "markdown",
   "metadata": {},
   "source": [
    "## Merge-Sort\n",
    "L'algoritmo di Merge-Sort è invece un metodo di ordinamento basato sul principio di divide - impera - combina. L'idea è di dividere ricorsivamente il vettore da ordinare in due sottovettori di dimensione approssimativamente uguale, fino a ottenere sottovettori di lunghezza unitaria o nulla, che sono già ordinati per definizione. Poi si fondono i sottovettori ordinati in un unico vettore ordinato, utilizzando una procedura ausiliaria che confronta gli elementi dei due sottovettori e li inserisce in ordine nel vettore finale (Merge).\n",
    "\n",
    "Riguardo il costo computazionale occorre riflettere sul fatto che a ogni livello di ricorsione si effettua una divisione del vettore in due parti e una fusione dei due sottovettori ordinati, che richiedono entrambe un tempo lineare θ(n). Il numero di livelli di ricorsione è logaritmico in base 2, poiché a ogni livello si dimezza la dimensione del vettore, quindi il costo totale è dato dal prodotto tra il numero di livelli e il costo per livello, ovvero θ(n log n), il che lo rende un ordinamento per confronto asintoticamente ottimo.\n",
    "\n",
    "Una sua possibile implementazione è la seguente:"
   ]
  },
  {
   "cell_type": "code",
   "execution_count": 1,
   "metadata": {},
   "outputs": [],
   "source": [
    "import sys\n",
    "inf = sys.maxsize\n",
    "\n",
    "def MergeSort(A, p, r):\n",
    "    if p < r:\n",
    "        q = (p + r) // 2            #Divide\n",
    "        MergeSort(A, p, q)          #Impera\n",
    "        MergeSort(A, q + 1, r)      #Impera\n",
    "        Merge(A, p, q, r)           #Combina\n",
    "\n",
    "\n",
    "def Merge(A, p, q, r):\n",
    "    L = A[p:q + 1]\n",
    "    R = A[q + 1:r + 1]\n",
    "    L.append(inf)\n",
    "    R.append(inf)\n",
    "    i = 0\n",
    "    j = 0\n",
    "    for k in range(p, r + 1):\n",
    "        if L[i] <= R[j]:\n",
    "            A[k] = L[i]\n",
    "            i += 1\n",
    "        else:\n",
    "            A[k] = R[j]\n",
    "            j += 1"
   ]
  },
  {
   "cell_type": "code",
   "execution_count": 2,
   "metadata": {},
   "outputs": [
    {
     "name": "stdout",
     "output_type": "stream",
     "text": [
      "[1, 2, 3, 4, 5, 8]\n"
     ]
    }
   ],
   "source": [
    "#Esempio applicativo\n",
    "A = [4,2,8,5,1,3]\n",
    "MergeSort(A,0,len(A)-1)\n",
    "print(A)"
   ]
  },
  {
   "cell_type": "code",
   "execution_count": 9,
   "metadata": {},
   "outputs": [],
   "source": []
  }
 ],
 "metadata": {
  "kernelspec": {
   "display_name": "Python 3 (ipykernel)",
   "language": "python",
   "name": "python3"
  },
  "language_info": {
   "codemirror_mode": {
    "name": "ipython",
    "version": 3
   },
   "file_extension": ".py",
   "mimetype": "text/x-python",
   "name": "python",
   "nbconvert_exporter": "python",
   "pygments_lexer": "ipython3",
   "version": "3.11.2"
  }
 },
 "nbformat": 4,
 "nbformat_minor": 1
}
